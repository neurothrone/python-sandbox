{
 "cells": [
  {
   "cell_type": "code",
   "id": "initial_id",
   "metadata": {
    "collapsed": true,
    "ExecuteTime": {
     "end_time": "2025-10-03T18:44:12.321566Z",
     "start_time": "2025-10-03T18:44:11.688137Z"
    }
   },
   "source": [
    "import pandas as pd\n",
    "import polars as pl"
   ],
   "outputs": [],
   "execution_count": 1
  },
  {
   "metadata": {
    "ExecuteTime": {
     "end_time": "2025-10-03T19:22:15.587969Z",
     "start_time": "2025-10-03T19:22:15.585846Z"
    }
   },
   "cell_type": "code",
   "source": [
    "data = {\n",
    "    \"name\": [\"Alice\", \"Bob\", \"Charlie\", \"David\"],\n",
    "    \"num_occurrences\": [1, 2, None, 3]\n",
    "}"
   ],
   "id": "b6765c2fb9aa7746",
   "outputs": [],
   "execution_count": 2
  },
  {
   "metadata": {},
   "cell_type": "markdown",
   "source": "Assemble the DataFrame in Pandas",
   "id": "c44da9bebcd6e27e"
  },
  {
   "metadata": {
    "ExecuteTime": {
     "end_time": "2025-10-03T19:22:29.262299Z",
     "start_time": "2025-10-03T19:22:29.254200Z"
    }
   },
   "cell_type": "code",
   "source": [
    "# Create a Pandas DataFrame\n",
    "df_pd = pd.DataFrame(data)\n",
    "df_pd"
   ],
   "id": "6e0de39c5083800a",
   "outputs": [
    {
     "data": {
      "text/plain": [
       "      name  num_occurrences\n",
       "0    Alice              1.0\n",
       "1      Bob              2.0\n",
       "2  Charlie              NaN\n",
       "3    David              3.0"
      ],
      "text/html": [
       "<div>\n",
       "<style scoped>\n",
       "    .dataframe tbody tr th:only-of-type {\n",
       "        vertical-align: middle;\n",
       "    }\n",
       "\n",
       "    .dataframe tbody tr th {\n",
       "        vertical-align: top;\n",
       "    }\n",
       "\n",
       "    .dataframe thead th {\n",
       "        text-align: right;\n",
       "    }\n",
       "</style>\n",
       "<table border=\"1\" class=\"dataframe\">\n",
       "  <thead>\n",
       "    <tr style=\"text-align: right;\">\n",
       "      <th></th>\n",
       "      <th>name</th>\n",
       "      <th>num_occurrences</th>\n",
       "    </tr>\n",
       "  </thead>\n",
       "  <tbody>\n",
       "    <tr>\n",
       "      <th>0</th>\n",
       "      <td>Alice</td>\n",
       "      <td>1.0</td>\n",
       "    </tr>\n",
       "    <tr>\n",
       "      <th>1</th>\n",
       "      <td>Bob</td>\n",
       "      <td>2.0</td>\n",
       "    </tr>\n",
       "    <tr>\n",
       "      <th>2</th>\n",
       "      <td>Charlie</td>\n",
       "      <td>NaN</td>\n",
       "    </tr>\n",
       "    <tr>\n",
       "      <th>3</th>\n",
       "      <td>David</td>\n",
       "      <td>3.0</td>\n",
       "    </tr>\n",
       "  </tbody>\n",
       "</table>\n",
       "</div>"
      ]
     },
     "execution_count": 4,
     "metadata": {},
     "output_type": "execute_result"
    }
   ],
   "execution_count": 4
  },
  {
   "metadata": {},
   "cell_type": "markdown",
   "source": "Assemble the DataFrame in Polars",
   "id": "efd3f6439840e79c"
  },
  {
   "metadata": {
    "ExecuteTime": {
     "end_time": "2025-10-03T19:22:35.012801Z",
     "start_time": "2025-10-03T19:22:35.007889Z"
    }
   },
   "cell_type": "code",
   "source": [
    "# Create a Polars DataFrame\n",
    "df_pl = pl.DataFrame(data)\n",
    "df_pl"
   ],
   "id": "e3afb1fd2c0d4dd3",
   "outputs": [
    {
     "data": {
      "text/plain": [
       "shape: (4, 2)\n",
       "┌─────────┬─────────────────┐\n",
       "│ name    ┆ num_occurrences │\n",
       "│ ---     ┆ ---             │\n",
       "│ str     ┆ i64             │\n",
       "╞═════════╪═════════════════╡\n",
       "│ Alice   ┆ 1               │\n",
       "│ Bob     ┆ 2               │\n",
       "│ Charlie ┆ null            │\n",
       "│ David   ┆ 3               │\n",
       "└─────────┴─────────────────┘"
      ],
      "text/html": [
       "<div><style>\n",
       ".dataframe > thead > tr,\n",
       ".dataframe > tbody > tr {\n",
       "  text-align: right;\n",
       "  white-space: pre-wrap;\n",
       "}\n",
       "</style>\n",
       "<small>shape: (4, 2)</small><table border=\"1\" class=\"dataframe\"><thead><tr><th>name</th><th>num_occurrences</th></tr><tr><td>str</td><td>i64</td></tr></thead><tbody><tr><td>&quot;Alice&quot;</td><td>1</td></tr><tr><td>&quot;Bob&quot;</td><td>2</td></tr><tr><td>&quot;Charlie&quot;</td><td>null</td></tr><tr><td>&quot;David&quot;</td><td>3</td></tr></tbody></table></div>"
      ]
     },
     "execution_count": 5,
     "metadata": {},
     "output_type": "execute_result"
    }
   ],
   "execution_count": 5
  },
  {
   "metadata": {},
   "cell_type": "markdown",
   "source": [
    "# Key syntax is consistent across both Pandas and Polars\n",
    "\n",
    "Use of head(), shape and dtypes is identical"
   ],
   "id": "1ef625ee8c8b7cf2"
  },
  {
   "metadata": {
    "ExecuteTime": {
     "end_time": "2025-10-03T19:22:42.754146Z",
     "start_time": "2025-10-03T19:22:42.749820Z"
    }
   },
   "cell_type": "code",
   "source": [
    "# Show the top row of Pandas DataFrame\n",
    "df_pd.head(1)"
   ],
   "id": "cf3130bd24908ac4",
   "outputs": [
    {
     "data": {
      "text/plain": [
       "    name  num_occurrences\n",
       "0  Alice              1.0"
      ],
      "text/html": [
       "<div>\n",
       "<style scoped>\n",
       "    .dataframe tbody tr th:only-of-type {\n",
       "        vertical-align: middle;\n",
       "    }\n",
       "\n",
       "    .dataframe tbody tr th {\n",
       "        vertical-align: top;\n",
       "    }\n",
       "\n",
       "    .dataframe thead th {\n",
       "        text-align: right;\n",
       "    }\n",
       "</style>\n",
       "<table border=\"1\" class=\"dataframe\">\n",
       "  <thead>\n",
       "    <tr style=\"text-align: right;\">\n",
       "      <th></th>\n",
       "      <th>name</th>\n",
       "      <th>num_occurrences</th>\n",
       "    </tr>\n",
       "  </thead>\n",
       "  <tbody>\n",
       "    <tr>\n",
       "      <th>0</th>\n",
       "      <td>Alice</td>\n",
       "      <td>1.0</td>\n",
       "    </tr>\n",
       "  </tbody>\n",
       "</table>\n",
       "</div>"
      ]
     },
     "execution_count": 6,
     "metadata": {},
     "output_type": "execute_result"
    }
   ],
   "execution_count": 6
  },
  {
   "metadata": {
    "ExecuteTime": {
     "end_time": "2025-10-03T19:22:46.660629Z",
     "start_time": "2025-10-03T19:22:46.657550Z"
    }
   },
   "cell_type": "code",
   "source": [
    "# Show the top row of Polars DataFrame\n",
    "df_pl.head(1)"
   ],
   "id": "ca8f60b2cac8acb4",
   "outputs": [
    {
     "data": {
      "text/plain": [
       "shape: (1, 2)\n",
       "┌───────┬─────────────────┐\n",
       "│ name  ┆ num_occurrences │\n",
       "│ ---   ┆ ---             │\n",
       "│ str   ┆ i64             │\n",
       "╞═══════╪═════════════════╡\n",
       "│ Alice ┆ 1               │\n",
       "└───────┴─────────────────┘"
      ],
      "text/html": [
       "<div><style>\n",
       ".dataframe > thead > tr,\n",
       ".dataframe > tbody > tr {\n",
       "  text-align: right;\n",
       "  white-space: pre-wrap;\n",
       "}\n",
       "</style>\n",
       "<small>shape: (1, 2)</small><table border=\"1\" class=\"dataframe\"><thead><tr><th>name</th><th>num_occurrences</th></tr><tr><td>str</td><td>i64</td></tr></thead><tbody><tr><td>&quot;Alice&quot;</td><td>1</td></tr></tbody></table></div>"
      ]
     },
     "execution_count": 7,
     "metadata": {},
     "output_type": "execute_result"
    }
   ],
   "execution_count": 7
  },
  {
   "metadata": {
    "ExecuteTime": {
     "end_time": "2025-10-03T19:23:16.989804Z",
     "start_time": "2025-10-03T19:23:16.986994Z"
    }
   },
   "cell_type": "code",
   "source": [
    "# Show the shape of a Pandas DataFrame\n",
    "df_pd.shape"
   ],
   "id": "2f1f399a688fc3bf",
   "outputs": [
    {
     "data": {
      "text/plain": [
       "(4, 2)"
      ]
     },
     "execution_count": 8,
     "metadata": {},
     "output_type": "execute_result"
    }
   ],
   "execution_count": 8
  },
  {
   "metadata": {
    "ExecuteTime": {
     "end_time": "2025-10-03T19:23:21.334252Z",
     "start_time": "2025-10-03T19:23:21.331640Z"
    }
   },
   "cell_type": "code",
   "source": [
    "# Show the shape of a Polars DataFrame\n",
    "df_pl.shape"
   ],
   "id": "f6123be4b23fdc35",
   "outputs": [
    {
     "data": {
      "text/plain": [
       "(4, 2)"
      ]
     },
     "execution_count": 9,
     "metadata": {},
     "output_type": "execute_result"
    }
   ],
   "execution_count": 9
  },
  {
   "metadata": {
    "ExecuteTime": {
     "end_time": "2025-10-03T19:23:22.968633Z",
     "start_time": "2025-10-03T19:23:22.965189Z"
    }
   },
   "cell_type": "code",
   "source": [
    "# Show data types of a Pandas DataFrame\n",
    "df_pd.dtypes"
   ],
   "id": "a22380301029a82b",
   "outputs": [
    {
     "data": {
      "text/plain": [
       "name                object\n",
       "num_occurrences    float64\n",
       "dtype: object"
      ]
     },
     "execution_count": 10,
     "metadata": {},
     "output_type": "execute_result"
    }
   ],
   "execution_count": 10
  },
  {
   "metadata": {
    "ExecuteTime": {
     "end_time": "2025-10-03T19:23:25.259786Z",
     "start_time": "2025-10-03T19:23:25.256812Z"
    }
   },
   "cell_type": "code",
   "source": [
    "# Show data types of a Polars DataFrame\n",
    "df_pl.dtypes"
   ],
   "id": "61c62ca303d190bd",
   "outputs": [
    {
     "data": {
      "text/plain": [
       "[String, Int64]"
      ]
     },
     "execution_count": 11,
     "metadata": {},
     "output_type": "execute_result"
    }
   ],
   "execution_count": 11
  },
  {
   "metadata": {
    "ExecuteTime": {
     "end_time": "2025-10-03T19:23:48.420844Z",
     "start_time": "2025-10-03T19:23:48.416220Z"
    }
   },
   "cell_type": "code",
   "source": [
    "# Use describe() on Pandas DataFrame\n",
    "df_pd[\"num_occurrences\"].describe()"
   ],
   "id": "c79f42fa98eaae4b",
   "outputs": [
    {
     "data": {
      "text/plain": [
       "count    3.0\n",
       "mean     2.0\n",
       "std      1.0\n",
       "min      1.0\n",
       "25%      1.5\n",
       "50%      2.0\n",
       "75%      2.5\n",
       "max      3.0\n",
       "Name: num_occurrences, dtype: float64"
      ]
     },
     "execution_count": 15,
     "metadata": {},
     "output_type": "execute_result"
    }
   ],
   "execution_count": 15
  },
  {
   "metadata": {
    "ExecuteTime": {
     "end_time": "2025-10-03T19:23:53.294760Z",
     "start_time": "2025-10-03T19:23:53.290525Z"
    }
   },
   "cell_type": "code",
   "source": [
    "# Use describe() on Polars DataFrame\n",
    "df_pl[\"num_occurrences\"].describe()"
   ],
   "id": "89da6a37bc34d34b",
   "outputs": [
    {
     "data": {
      "text/plain": [
       "shape: (9, 2)\n",
       "┌────────────┬───────┐\n",
       "│ statistic  ┆ value │\n",
       "│ ---        ┆ ---   │\n",
       "│ str        ┆ f64   │\n",
       "╞════════════╪═══════╡\n",
       "│ count      ┆ 3.0   │\n",
       "│ null_count ┆ 1.0   │\n",
       "│ mean       ┆ 2.0   │\n",
       "│ std        ┆ 1.0   │\n",
       "│ min        ┆ 1.0   │\n",
       "│ 25%        ┆ 2.0   │\n",
       "│ 50%        ┆ 2.0   │\n",
       "│ 75%        ┆ 3.0   │\n",
       "│ max        ┆ 3.0   │\n",
       "└────────────┴───────┘"
      ],
      "text/html": [
       "<div><style>\n",
       ".dataframe > thead > tr,\n",
       ".dataframe > tbody > tr {\n",
       "  text-align: right;\n",
       "  white-space: pre-wrap;\n",
       "}\n",
       "</style>\n",
       "<small>shape: (9, 2)</small><table border=\"1\" class=\"dataframe\"><thead><tr><th>statistic</th><th>value</th></tr><tr><td>str</td><td>f64</td></tr></thead><tbody><tr><td>&quot;count&quot;</td><td>3.0</td></tr><tr><td>&quot;null_count&quot;</td><td>1.0</td></tr><tr><td>&quot;mean&quot;</td><td>2.0</td></tr><tr><td>&quot;std&quot;</td><td>1.0</td></tr><tr><td>&quot;min&quot;</td><td>1.0</td></tr><tr><td>&quot;25%&quot;</td><td>2.0</td></tr><tr><td>&quot;50%&quot;</td><td>2.0</td></tr><tr><td>&quot;75%&quot;</td><td>3.0</td></tr><tr><td>&quot;max&quot;</td><td>3.0</td></tr></tbody></table></div>"
      ]
     },
     "execution_count": 16,
     "metadata": {},
     "output_type": "execute_result"
    }
   ],
   "execution_count": 16
  }
 ],
 "metadata": {
  "kernelspec": {
   "display_name": "Python 3",
   "language": "python",
   "name": "python3"
  },
  "language_info": {
   "codemirror_mode": {
    "name": "ipython",
    "version": 2
   },
   "file_extension": ".py",
   "mimetype": "text/x-python",
   "name": "python",
   "nbconvert_exporter": "python",
   "pygments_lexer": "ipython2",
   "version": "2.7.6"
  }
 },
 "nbformat": 4,
 "nbformat_minor": 5
}
