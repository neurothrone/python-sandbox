{
 "cells": [
  {
   "cell_type": "code",
   "id": "initial_id",
   "metadata": {
    "collapsed": true,
    "ExecuteTime": {
     "end_time": "2025-10-19T13:45:49.659611Z",
     "start_time": "2025-10-19T13:45:49.374746Z"
    }
   },
   "source": [
    "from IPython.core.interactiveshell import InteractiveShell\n",
    "InteractiveShell.ast_node_interactivity = \"all\"\n",
    "import pandas as pd"
   ],
   "outputs": [],
   "execution_count": 1
  },
  {
   "metadata": {
    "ExecuteTime": {
     "end_time": "2025-10-19T13:56:49.537430Z",
     "start_time": "2025-10-19T13:56:49.287497Z"
    }
   },
   "cell_type": "code",
   "source": [
    "df_raw_2024 = pd.read_excel(\"data/raw/resultat-ansokningsomgang-2024.xlsx\", sheet_name=\"Tabell 1\", header=None)\n",
    "df_raw_2023 = pd.read_excel(\"data/raw/resultat-ansokningsomgang-2023.xlsx\", sheet_name=\"Tabell 1\", header=None)\n",
    "df_raw_2022 = pd.read_excel(\"data/raw/resultat-ansokningsomgang-2022.xlsx\", sheet_name=\"Tabell 1\", header=None)\n",
    "df_raw_2021 = pd.read_excel(\"data/raw/resultat-ansokningsomgang-2021.xlsx\", sheet_name=\"Tabell 1\", header=None)\n",
    "df_raw_2020 = pd.read_excel(\"data/raw/resultat-ansokningsomgang-2020.xlsx\", sheet_name=\"Tabell 1\", header=None)"
   ],
   "id": "375cc58fbe70887b",
   "outputs": [],
   "execution_count": 13
  },
  {
   "metadata": {
    "ExecuteTime": {
     "end_time": "2025-10-19T14:05:58.325314Z",
     "start_time": "2025-10-19T14:05:58.318342Z"
    }
   },
   "cell_type": "code",
   "source": [
    "header_row_2024 = df_raw_2024[df_raw_2024[0].astype(str).str.contains(\"Utbildningsområde\", na=False)]\n",
    "header_row_2023 = df_raw_2023[df_raw_2023[0].astype(str).str.contains(\"Utbildningsområde\", na=False)]\n",
    "header_row_2022 = df_raw_2022[df_raw_2022[0].astype(str).str.contains(\"Utbildningsområde\", na=False)]\n",
    "header_row_2021 = df_raw_2021[df_raw_2021[0].astype(str).str.contains(\"Utbildningsområde\", na=False)]\n",
    "header_row_2020 = df_raw_2020[df_raw_2020[0].astype(str).str.contains(\"Utbildningsområde\", na=False)]\n",
    "\n",
    "print(header_row_2024.values.tolist())\n",
    "print(header_row_2023.values.tolist())\n",
    "print(header_row_2022.values.tolist())\n",
    "print(header_row_2021.values.tolist())\n",
    "print(header_row_2020.values.tolist())\n",
    "\n"
   ],
   "id": "e40500cfb3b52ae9",
   "outputs": [
    {
     "name": "stdout",
     "output_type": "stream",
     "text": [
      "[['Utbildningsområde', 'Utbildningsnamn', 'Län', 'Kommun', 'Diarienummer', 'Flera kommuner', 'Antal kommuner', 'YH-poäng', 'Utbildningsanordnare administrativ enhet']]\n",
      "[['Utbildningsområde', 'Utbildningsnamn', 'Län', 'Kommun', 'Diarienummer', 'Flera kommuner', 'Antal kommuner', 'YH-poäng', 'Utbildningsanordnare administrativ enhet']]\n",
      "[['Utbildningsområde', 'Utbildningsnamn', 'Län', 'Kommun', 'Diarienummer', 'Flera kommuner', 'Antal kommuner', 'YH-poäng', 'Utbildningsanordnare administrativ enhet']]\n",
      "[['Utbildningsområde', 'Utbildningsnamn', 'Län', 'Kommun', 'Flera studiekommuner', 'Antal kommuner', 'Antal län', 'YH-poäng', 'Utbildningsanordnare administrativ enhet', 'Diarienummer']]\n",
      "[['Utbildningsområde', 'Utbildningsnamn', 'Län', 'Kommun', 'Flera studiekommuner', 'Antal kommuner', 'Antal län', 'YH-poäng', 'Utbildningsanordnare administrativ enhet', 'Diarienummer']]\n"
     ]
    }
   ],
   "execution_count": 21
  }
 ],
 "metadata": {
  "kernelspec": {
   "display_name": "Python 3",
   "language": "python",
   "name": "python3"
  },
  "language_info": {
   "codemirror_mode": {
    "name": "ipython",
    "version": 2
   },
   "file_extension": ".py",
   "mimetype": "text/x-python",
   "name": "python",
   "nbconvert_exporter": "python",
   "pygments_lexer": "ipython2",
   "version": "2.7.6"
  }
 },
 "nbformat": 4,
 "nbformat_minor": 5
}
